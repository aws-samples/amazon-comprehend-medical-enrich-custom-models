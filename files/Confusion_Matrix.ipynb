{
 "cells": [
  {
   "cell_type": "markdown",
   "metadata": {},
   "source": [
    "# Plot Confusion Matrix\n",
    "\n",
    "This notebook plots the confusion matrix for the Amazon Comprehend Custom Classifier."
   ]
  },
  {
   "cell_type": "code",
   "execution_count": 1,
   "metadata": {},
   "outputs": [],
   "source": [
    "import pandas as pd\n",
    "import re\n",
    "import seaborn as sns\n",
    "import matplotlib.pyplot as plt   \n",
    "from sklearn.metrics import confusion_matrix"
   ]
  },
  {
   "cell_type": "code",
   "execution_count": 2,
   "metadata": {},
   "outputs": [],
   "source": [
    "def format_test_data(test_data):\n",
    "    df = pd.read_csv(test_data, header=None)\n",
    "    num = df.count()\n",
    "    matrix2 = df[df.columns[0]].to_numpy()\n",
    "    list2 = matrix2.tolist()\n",
    "    return list2\n",
    "\n",
    "\n",
    "def format_test_results(test_results):\n",
    "    # Read in the predictions file\n",
    "    file = open(test_results)\n",
    "    predictions = file.read()\n",
    "    file.close()\n",
    "\n",
    "    p1 = re.compile('\"')\n",
    "    predictions1 = p1.sub('', predictions)\n",
    "\n",
    "    p2 = re.compile('.*(Classes: )')\n",
    "    predictions2 = p2.sub('', predictions1)\n",
    "\n",
    "    p3 = re.compile('(,).*')\n",
    "    predictions3 = p3.sub('', predictions2)\n",
    "\n",
    "    p4 = re.compile('.*(Name: )')\n",
    "    predictions4 = p4.sub('', predictions3)\n",
    "    \n",
    "    # delete the last line\n",
    "    predictions5 = predictions4[:-1]\n",
    "\n",
    "    # convert from string to list\n",
    "    final_predictions = list(predictions5.split(\"\\n\"))\n",
    "\n",
    "    return final_predictions\n"
   ]
  },
  {
   "cell_type": "code",
   "execution_count": 5,
   "metadata": {},
   "outputs": [],
   "source": [
    "#modify this to point to a file containing the downloaded classification predictions\n",
    "y_pred = format_test_results(\"LOCATION OF PREDICTED DATA\") \n",
    "\n",
    "y_true = format_test_data(\"Testing_Data_with_labels.csv\") \n"
   ]
  },
  {
   "cell_type": "code",
   "execution_count": 6,
   "metadata": {},
   "outputs": [
    {
     "name": "stdout",
     "output_type": "stream",
     "text": [
      "# of y_true: 200\n",
      "# of y_pred: 200\n"
     ]
    }
   ],
   "source": [
    "y_true_count = len(y_true)\n",
    "y_pred_count = len(y_pred)\n",
    "\n",
    "print(\"# of y_true: \" + str(y_true_count))\n",
    "print(\"# of y_pred: \" + str(y_pred_count))"
   ]
  },
  {
   "cell_type": "code",
   "execution_count": 7,
   "metadata": {},
   "outputs": [],
   "source": [
    "def plot_confusion_matrix(y_true, y_pred):\n",
    "    cm = confusion_matrix(y_true, y_pred, labels=[ 'General Medicine', 'Radiology', 'Surgery', 'Urology'])\n",
    "    \n",
    "    ax= plt.subplot()\n",
    "    sns.heatmap(cm, annot=True, ax = ax, vmin=0, vmax=50, fmt=\"d\", cmap=\"Blues\"); #annot=True to annotate cells\n",
    "    \n",
    "    # labels, title and ticks\n",
    "    ax.set_xlabel('Predicted labels');\n",
    "    ax.set_ylabel('True labels'); \n",
    "    ax.set_title('Confusion Matrix'); \n",
    "    ax.xaxis.set_ticklabels(['General Medicine', 'Radiology', 'Surgery', 'Urology']); \n",
    "    ax.yaxis.set_ticklabels(['General Medicine', 'Radiology', 'Surgery', 'Urology']);\n",
    "    plt.setp(ax.get_xticklabels(), ha=\"right\", rotation=90)\n",
    "    plt.setp(ax.get_yticklabels(), ha=\"right\", rotation=0)"
   ]
  },
  {
   "cell_type": "code",
   "execution_count": 8,
   "metadata": {},
   "outputs": [
    {
     "data": {
      "image/png": "[encoded data removed]",
      "text/plain": [
       "<Figure size 432x288 with 2 Axes>"
      ]
     },
     "metadata": {
      "needs_background": "light"
     },
     "output_type": "display_data"
    }
   ],
   "source": [
    "plot_confusion_matrix(y_true, y_pred)"
   ]
  }
 ],
 "metadata": {
  "kernelspec": {
   "display_name": "Python 3",
   "language": "python",
   "name": "python3"
  },
  "language_info": {
   "codemirror_mode": {
    "name": "ipython",
    "version": 3
   },
   "file_extension": ".py",
   "mimetype": "text/x-python",
   "name": "python",
   "nbconvert_exporter": "python",
   "pygments_lexer": "ipython3",
   "version": "3.7.9"
  }
 },
 "nbformat": 4,
 "nbformat_minor": 4
}
